{
 "cells": [
  {
   "cell_type": "code",
   "execution_count": null,
   "id": "3b2dad22-fcf8-4716-8607-468d09d174fd",
   "metadata": {},
   "outputs": [],
   "source": []
  }
 ],
 "metadata": {
  "kernelspec": {
   "display_name": "",
   "name": ""
  },
  "language_info": {
   "name": ""
  }
 },
 "nbformat": 4,
 "nbformat_minor": 5
}
