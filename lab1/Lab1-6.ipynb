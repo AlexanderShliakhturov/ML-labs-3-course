{
 "cells": [
  {
   "cell_type": "markdown",
   "id": "ec6e7d18-6a6e-4a51-a7cd-0a1152604973",
   "metadata": {},
   "source": [
    "## Лабораторная работа №1 | Вариант 6"
   ]
  },
  {
   "cell_type": "markdown",
   "id": "277877ce-f982-4711-a6a6-2a4a90871409",
   "metadata": {},
   "source": [
    "Выполнил: "
   ]
  },
  {
   "cell_type": "markdown",
   "id": "031f025d-84dc-470f-b839-456a76d9636b",
   "metadata": {},
   "source": [
    "### 1. Numpy"
   ]
  },
  {
   "cell_type": "code",
   "execution_count": 272,
   "id": "8a2c6f8d-e85b-4982-ba6d-77ffdb7d53e8",
   "metadata": {},
   "outputs": [],
   "source": [
    "import numpy as np\n",
    "import matplotlib.pyplot as plt\n",
    "import seaborn as sns"
   ]
  },
  {
   "cell_type": "markdown",
   "id": "6ff3559d-5f3e-4540-9a31-bfb9f42a23da",
   "metadata": {},
   "source": [
    "1. Создайте единичную матрицу размером 3х3"
   ]
  },
  {
   "cell_type": "code",
   "execution_count": 2,
   "id": "752bc586-1e3f-4085-85c3-4068b781314f",
   "metadata": {},
   "outputs": [
    {
     "data": {
      "text/plain": [
       "array([[1., 0., 0.],\n",
       "       [0., 1., 0.],\n",
       "       [0., 0., 1.]])"
      ]
     },
     "execution_count": 2,
     "metadata": {},
     "output_type": "execute_result"
    }
   ],
   "source": [
    "a = np.eye(3)\n",
    "a"
   ]
  },
  {
   "cell_type": "markdown",
   "id": "0243a0f6-1905-4e2d-9572-9ba49dc003a8",
   "metadata": {},
   "source": [
    "2. Создайте матрицу 5х5 со значениями 1, 2, 3, 4 ниже диагонали"
   ]
  },
  {
   "cell_type": "code",
   "execution_count": 11,
   "id": "ec6ae581-5adf-459c-bdc7-8b015d9529f6",
   "metadata": {},
   "outputs": [
    {
     "data": {
      "text/plain": [
       "array([[0, 0, 0, 0, 0],\n",
       "       [1, 0, 0, 0, 0],\n",
       "       [0, 2, 0, 0, 0],\n",
       "       [0, 0, 3, 0, 0],\n",
       "       [0, 0, 0, 4, 0]])"
      ]
     },
     "execution_count": 11,
     "metadata": {},
     "output_type": "execute_result"
    }
   ],
   "source": [
    "b = np.diag([1, 2, 3, 4], k=-1)\n",
    "b"
   ]
  },
  {
   "cell_type": "markdown",
   "id": "8c7d3811-a555-4c02-ada8-e4a70b9dee46",
   "metadata": {},
   "source": [
    "3. Какой выход будет у данного скрипта\n",
    "\n",
    "```python\n",
    "# Author: Jake VanderPlas\n",
    "\n",
    "print(sum(range(5),-1))\n",
    "from numpy import *\n",
    "print(sum(range(5),-1))\n",
    "```"
   ]
  },
  {
   "cell_type": "code",
   "execution_count": 1,
   "id": "12d0ed34-908c-4840-8b81-457e64dd7b0b",
   "metadata": {},
   "outputs": [
    {
     "name": "stdout",
     "output_type": "stream",
     "text": [
      "9\n",
      "10\n"
     ]
    }
   ],
   "source": [
    "print(sum(range(5),-1))\n",
    "from numpy import *\n",
    "print(sum(range(5),-1))"
   ]
  },
  {
   "cell_type": "markdown",
   "id": "b7ca56e6-a194-4c42-b8a2-307fcf40f648",
   "metadata": {},
   "source": [
    "4. Как найти самое часто встречаемое значение между двумя массивами? "
   ]
  },
  {
   "cell_type": "code",
   "execution_count": 23,
   "id": "1b1d64cd-0e28-400f-8d49-a1274947e150",
   "metadata": {},
   "outputs": [
    {
     "data": {
      "text/plain": [
       "9"
      ]
     },
     "execution_count": 23,
     "metadata": {},
     "output_type": "execute_result"
    }
   ],
   "source": [
    "a = np.array([1, 2, 2, 3, 4, 4, 4, 5, 6, 6, 6, 6])\n",
    "b = np.array([9, 9, 9, 9, 9])\n",
    "\n",
    "arr = np.hstack((a,b))\n",
    "\n",
    "vals, counts = np.unique(arr, return_counts=True)\n",
    "most_common = vals[np.argmax(counts)]\n",
    "most_common\n"
   ]
  },
  {
   "cell_type": "markdown",
   "id": "b3b2cd1e-e996-45e0-b9ed-e12ce653a9c3",
   "metadata": {},
   "source": [
    "5. Как игнорировать все warnings в numpy(не нужно так делать, но покажи)?"
   ]
  },
  {
   "cell_type": "code",
   "execution_count": 34,
   "id": "c40ef785-d750-42ba-ac6e-b777866202a6",
   "metadata": {},
   "outputs": [
    {
     "data": {
      "text/plain": [
       "array([inf, inf, inf])"
      ]
     },
     "execution_count": 34,
     "metadata": {},
     "output_type": "execute_result"
    }
   ],
   "source": [
    "#выключил\n",
    "np.seterr(all=\"ignore\")\n",
    "np.divide(np.array([1,2,3]), 0)"
   ]
  },
  {
   "cell_type": "code",
   "execution_count": 35,
   "id": "adf96c45-1ce5-4070-85cb-fae7b1946956",
   "metadata": {},
   "outputs": [
    {
     "name": "stderr",
     "output_type": "stream",
     "text": [
      "/tmp/ipykernel_605/4226703267.py:3: RuntimeWarning: divide by zero encountered in divide\n",
      "  np.divide(np.array([1,2,3]), 0)\n"
     ]
    },
    {
     "data": {
      "text/plain": [
       "array([inf, inf, inf])"
      ]
     },
     "execution_count": 35,
     "metadata": {},
     "output_type": "execute_result"
    }
   ],
   "source": [
    "#включил\n",
    "np.seterr(all=\"warn\")\n",
    "np.divide(np.array([1,2,3]), 0)"
   ]
  },
  {
   "cell_type": "markdown",
   "id": "8108b3a8-5ba8-472d-ad6b-095ade8678ef",
   "metadata": {},
   "source": [
    "6. Реализуем функцию-генератор, которая генерирует 10 целых чисел и используем ее для построения массива"
   ]
  },
  {
   "cell_type": "code",
   "execution_count": 37,
   "id": "89b58c0a-bd5d-435a-be45-719fdfce662a",
   "metadata": {},
   "outputs": [],
   "source": [
    "def gen_int(n):\n",
    "    for _ in range(n):\n",
    "        yield np.random.randint(0, 100)"
   ]
  },
  {
   "cell_type": "code",
   "execution_count": 41,
   "id": "642cb47e-2c49-4abd-8211-0564734ea99f",
   "metadata": {},
   "outputs": [
    {
     "data": {
      "text/plain": [
       "array([66, 62, 87, 14, 95, 71, 21, 56, 55, 22])"
      ]
     },
     "execution_count": 41,
     "metadata": {},
     "output_type": "execute_result"
    }
   ],
   "source": [
    "gen = gen_int(10)\n",
    "array = np.array(list(gen))\n",
    "array"
   ]
  },
  {
   "cell_type": "markdown",
   "id": "98511652-db85-4506-a5b8-f94b05d35ce9",
   "metadata": {},
   "source": [
    "7. Создайте массив случайных чисел размером 10 и отсортируйте его"
   ]
  },
  {
   "cell_type": "code",
   "execution_count": 50,
   "id": "ca72cdb0-ed24-460d-81a9-220b850d62c3",
   "metadata": {},
   "outputs": [
    {
     "data": {
      "text/plain": [
       "array([-9, -7, -6, -3,  1,  2,  3,  5,  5,  9])"
      ]
     },
     "execution_count": 50,
     "metadata": {},
     "output_type": "execute_result"
    }
   ],
   "source": [
    "a = np.random.randint(-10, 10, size=10)\n",
    "sorted_a = np.sort(a)\n",
    "sorted_a"
   ]
  },
  {
   "cell_type": "markdown",
   "id": "1412a70a-2a1e-406e-a227-afc9a47ed659",
   "metadata": {},
   "source": [
    "8. Создайте случайную матрицу 10х2 которая представляет собой декартовые координаты и преобразуйте их в полярные"
   ]
  },
  {
   "cell_type": "code",
   "execution_count": 74,
   "id": "22bb8bbf-52dd-4d3c-86c0-c4e9637b909b",
   "metadata": {},
   "outputs": [
    {
     "data": {
      "text/plain": [
       "array([[2, 3],\n",
       "       [2, 4],\n",
       "       [5, 5],\n",
       "       [4, 1],\n",
       "       [1, 7],\n",
       "       [1, 7],\n",
       "       [5, 2],\n",
       "       [4, 4],\n",
       "       [7, 1],\n",
       "       [2, 7]])"
      ]
     },
     "execution_count": 74,
     "metadata": {},
     "output_type": "execute_result"
    }
   ],
   "source": [
    "matrix = np.random.randint(0, 10, size = (10, 2))\n",
    "matrix"
   ]
  },
  {
   "cell_type": "code",
   "execution_count": 83,
   "id": "aa322146-de17-4f5b-97c3-2ef49901775a",
   "metadata": {},
   "outputs": [
    {
     "name": "stdout",
     "output_type": "stream",
     "text": [
      "rad = [3.60555128 4.47213595 7.07106781 4.12310563 7.07106781 7.07106781\n",
      " 5.38516481 5.65685425 7.07106781 7.28010989]\n",
      "\n",
      "phi = [56.30993247 63.43494882 45.         14.03624347 81.86989765 81.86989765\n",
      " 21.80140949 45.          8.13010235 74.0546041 ]\n"
     ]
    }
   ],
   "source": [
    "x = matrix[:,0]\n",
    "y = matrix[:, 1]\n",
    "r = np.sqrt(x**2 + y**2)\n",
    "phi = np.arctan2(y, x) * 180 / np.pi\n",
    "\n",
    "print(f\"rad = {r}\\n\\nphi = {phi}\")"
   ]
  },
  {
   "cell_type": "code",
   "execution_count": 92,
   "id": "81e5679f-bb96-47d7-8470-a345287c1142",
   "metadata": {},
   "outputs": [],
   "source": [
    "polar_coords = np.hstack((r.reshape(-1,1), phi.reshape(-1,1)))"
   ]
  },
  {
   "cell_type": "code",
   "execution_count": 93,
   "id": "c9e77a61-2b6a-4825-95af-f4e3eb229363",
   "metadata": {},
   "outputs": [
    {
     "data": {
      "text/plain": [
       "array([[ 3.60555128, 56.30993247],\n",
       "       [ 4.47213595, 63.43494882],\n",
       "       [ 7.07106781, 45.        ],\n",
       "       [ 4.12310563, 14.03624347],\n",
       "       [ 7.07106781, 81.86989765],\n",
       "       [ 7.07106781, 81.86989765],\n",
       "       [ 5.38516481, 21.80140949],\n",
       "       [ 5.65685425, 45.        ],\n",
       "       [ 7.07106781,  8.13010235],\n",
       "       [ 7.28010989, 74.0546041 ]])"
      ]
     },
     "execution_count": 93,
     "metadata": {},
     "output_type": "execute_result"
    }
   ],
   "source": [
    "polar_coords"
   ]
  },
  {
   "cell_type": "markdown",
   "id": "f7dc66bf-f7c8-4d78-834b-451651f6839a",
   "metadata": {},
   "source": [
    "9. Создайте структурированный массив который будет описывать пиксель(координату x, y и цвет r,g,b)"
   ]
  },
  {
   "cell_type": "code",
   "execution_count": 97,
   "id": "0ecf5586-d30e-4256-ab93-7ff9bab0b34b",
   "metadata": {},
   "outputs": [
    {
     "name": "stdout",
     "output_type": "stream",
     "text": [
      "[(1530,  130,  35,  34, 239) (1617,  454,  43, 181,  28)\n",
      " ( 726,  252,  14,  13,  98) (1087,  814,   3, 194,  79)\n",
      " ( 253, 1019, 204, 161,  15) (1572,  898, 231, 220, 212)\n",
      " ( 416,  202,  91, 176, 134) ( 931,  346, 110,  76, 228)\n",
      " (1767,  937,  15,  40, 227) ( 342,  620, 166, 125, 177)]\n"
     ]
    }
   ],
   "source": [
    "type_pixel = [('x', 'i4'), ('y', 'i4'), ('r', 'u1'), ('g', 'u1'), ('b', 'u1')]\n",
    "\n",
    "lngth = 10\n",
    "\n",
    "pixels = np.zeros(lngth, dtype=type_pixel)\n",
    "\n",
    "pixels['x'] = np.random.randint(0, 1920, lngth)\n",
    "pixels['y'] = np.random.randint(0, 1080, lngth)  \n",
    "pixels['r'] = np.random.randint(0, 256, lngth) \n",
    "pixels['g'] = np.random.randint(0, 256, lngth)\n",
    "pixels['b'] = np.random.randint(0, 256, lngth)  \n",
    "\n",
    "\n",
    "print(pixels)"
   ]
  },
  {
   "cell_type": "markdown",
   "id": "a66194f1-0099-4808-8ebf-5cf10eee5071",
   "metadata": {},
   "source": [
    "10. Как конвертировать тип массив от float32 в int32 in place?"
   ]
  },
  {
   "cell_type": "code",
   "execution_count": 99,
   "id": "07ed452c-3f7c-40a7-a5b5-716602a5eed9",
   "metadata": {},
   "outputs": [],
   "source": [
    "float_array = np.array([1.5, 2.3, 3.9, 4.7], dtype=np.float32)\n",
    "\n",
    "float_array = float_array.astype(np.int32, copy=False)"
   ]
  },
  {
   "cell_type": "code",
   "execution_count": null,
   "id": "f7c8203e-d0df-4b8a-ba31-c6e8c32a9f3b",
   "metadata": {},
   "outputs": [],
   "source": []
  },
  {
   "cell_type": "markdown",
   "id": "5bd0f757-bb01-4afb-b4f0-6821b5c5b2b7",
   "metadata": {},
   "source": [
    "### 2. Pandas"
   ]
  },
  {
   "cell_type": "markdown",
   "id": "bdffd013-e573-4318-8062-65ae1c5e07e8",
   "metadata": {},
   "source": [
    "Найдите ответы на вопросы или выполните действия с предложенным датасетом \n",
    "\n",
    "Набор данных описывает эффективность учеников в зависимости от некоторых факторов влияющих на обучение и окружение человека.\n",
    "\n",
    "Файл: `student_perfomance.csv`\n",
    "\n",
    "```\n",
    "Hours_Studied - количество часов затраченное на обучение в неделю\n",
    "Attendance - поцент посещенных занятий\n",
    "Parental_Involvement - уровень участия родителей в обучении учащегося\n",
    "Access_to_Resources - доступность ресурсов для обучения\n",
    "Extracurricular_Activities - участие во внеклассных мероприятиях\n",
    "Sleep_Hours - количество часов выделяемое на сон в день\n",
    "Previous_Scores - оценка за первый экзамен\n",
    "Motivation_Level - уровень мотивации\n",
    "Internet_Access - доступ к интернету\n",
    "Tutoring_Sessions - количество посещаемых репетиторских занятий в месяц.\n",
    "Family_Income - доход семьи\n",
    "Teacher_Quality - насколько качественно преподает учитель\n",
    "School_Type - тип школы(частная, обычная)\n",
    "Peer_Influence - влияние сверстников\n",
    "Physical_Activity - физическая активность\n",
    "Learning_Disabilities - наличие проблем с обучаемостью\n",
    "Parental_Education_Level - уровень образования родителей\n",
    "Distance_from_Home - дистанция от дома до школы\n",
    "Gender - пол\n",
    "Exam_Score - оценка на конечном экзамене\n",
    "```"
   ]
  },
  {
   "cell_type": "code",
   "execution_count": 102,
   "id": "0778ec2b-a7b2-4738-b771-bb1781986f62",
   "metadata": {},
   "outputs": [],
   "source": [
    "import pandas as pd"
   ]
  },
  {
   "cell_type": "code",
   "execution_count": 312,
   "id": "bfc45614-d44b-49bd-a55c-c410a95a808f",
   "metadata": {},
   "outputs": [],
   "source": [
    "data = pd.read_csv('student_perfomance.csv')"
   ]
  },
  {
   "cell_type": "code",
   "execution_count": 206,
   "id": "4d4bc2ea-44a5-4b18-8890-b4fbcdb0c9e6",
   "metadata": {},
   "outputs": [
    {
     "name": "stdout",
     "output_type": "stream",
     "text": [
      "<class 'pandas.core.frame.DataFrame'>\n",
      "RangeIndex: 6607 entries, 0 to 6606\n",
      "Data columns (total 20 columns):\n",
      " #   Column                      Non-Null Count  Dtype \n",
      "---  ------                      --------------  ----- \n",
      " 0   Hours_Studied               6607 non-null   int64 \n",
      " 1   Attendance                  6607 non-null   int64 \n",
      " 2   Parental_Involvement        6607 non-null   object\n",
      " 3   Access_to_Resources         6607 non-null   object\n",
      " 4   Extracurricular_Activities  6607 non-null   object\n",
      " 5   Sleep_Hours                 6607 non-null   int64 \n",
      " 6   Previous_Scores             6607 non-null   int64 \n",
      " 7   Motivation_Level            6607 non-null   object\n",
      " 8   Internet_Access             6607 non-null   object\n",
      " 9   Tutoring_Sessions           6607 non-null   int64 \n",
      " 10  Family_Income               6607 non-null   object\n",
      " 11  Teacher_Quality             6529 non-null   object\n",
      " 12  School_Type                 6607 non-null   object\n",
      " 13  Peer_Influence              6607 non-null   object\n",
      " 14  Physical_Activity           6607 non-null   int64 \n",
      " 15  Learning_Disabilities       6607 non-null   object\n",
      " 16  Parental_Education_Level    6517 non-null   object\n",
      " 17  Distance_from_Home          6540 non-null   object\n",
      " 18  Gender                      6607 non-null   object\n",
      " 19  Exam_Score                  6607 non-null   int64 \n",
      "dtypes: int64(7), object(13)\n",
      "memory usage: 1.0+ MB\n"
     ]
    }
   ],
   "source": [
    "data.info()"
   ]
  },
  {
   "cell_type": "code",
   "execution_count": 164,
   "id": "c52f4b9c-5184-458d-b3c6-32a51ffe1584",
   "metadata": {},
   "outputs": [
    {
     "data": {
      "text/plain": [
       "(6607, 20)"
      ]
     },
     "execution_count": 164,
     "metadata": {},
     "output_type": "execute_result"
    }
   ],
   "source": [
    "data.shape"
   ]
  },
  {
   "cell_type": "code",
   "execution_count": 104,
   "id": "f26ac549-bdfa-479f-aec0-90476c628316",
   "metadata": {},
   "outputs": [
    {
     "data": {
      "text/html": [
       "<div>\n",
       "<style scoped>\n",
       "    .dataframe tbody tr th:only-of-type {\n",
       "        vertical-align: middle;\n",
       "    }\n",
       "\n",
       "    .dataframe tbody tr th {\n",
       "        vertical-align: top;\n",
       "    }\n",
       "\n",
       "    .dataframe thead th {\n",
       "        text-align: right;\n",
       "    }\n",
       "</style>\n",
       "<table border=\"1\" class=\"dataframe\">\n",
       "  <thead>\n",
       "    <tr style=\"text-align: right;\">\n",
       "      <th></th>\n",
       "      <th>Hours_Studied</th>\n",
       "      <th>Attendance</th>\n",
       "      <th>Parental_Involvement</th>\n",
       "      <th>Access_to_Resources</th>\n",
       "      <th>Extracurricular_Activities</th>\n",
       "      <th>Sleep_Hours</th>\n",
       "      <th>Previous_Scores</th>\n",
       "      <th>Motivation_Level</th>\n",
       "      <th>Internet_Access</th>\n",
       "      <th>Tutoring_Sessions</th>\n",
       "      <th>Family_Income</th>\n",
       "      <th>Teacher_Quality</th>\n",
       "      <th>School_Type</th>\n",
       "      <th>Peer_Influence</th>\n",
       "      <th>Physical_Activity</th>\n",
       "      <th>Learning_Disabilities</th>\n",
       "      <th>Parental_Education_Level</th>\n",
       "      <th>Distance_from_Home</th>\n",
       "      <th>Gender</th>\n",
       "      <th>Exam_Score</th>\n",
       "    </tr>\n",
       "  </thead>\n",
       "  <tbody>\n",
       "    <tr>\n",
       "      <th>0</th>\n",
       "      <td>23</td>\n",
       "      <td>84</td>\n",
       "      <td>Low</td>\n",
       "      <td>High</td>\n",
       "      <td>No</td>\n",
       "      <td>7</td>\n",
       "      <td>73</td>\n",
       "      <td>Low</td>\n",
       "      <td>Yes</td>\n",
       "      <td>0</td>\n",
       "      <td>Low</td>\n",
       "      <td>Medium</td>\n",
       "      <td>Public</td>\n",
       "      <td>Positive</td>\n",
       "      <td>3</td>\n",
       "      <td>No</td>\n",
       "      <td>High School</td>\n",
       "      <td>Near</td>\n",
       "      <td>Male</td>\n",
       "      <td>67</td>\n",
       "    </tr>\n",
       "    <tr>\n",
       "      <th>1</th>\n",
       "      <td>19</td>\n",
       "      <td>64</td>\n",
       "      <td>Low</td>\n",
       "      <td>Medium</td>\n",
       "      <td>No</td>\n",
       "      <td>8</td>\n",
       "      <td>59</td>\n",
       "      <td>Low</td>\n",
       "      <td>Yes</td>\n",
       "      <td>2</td>\n",
       "      <td>Medium</td>\n",
       "      <td>Medium</td>\n",
       "      <td>Public</td>\n",
       "      <td>Negative</td>\n",
       "      <td>4</td>\n",
       "      <td>No</td>\n",
       "      <td>College</td>\n",
       "      <td>Moderate</td>\n",
       "      <td>Female</td>\n",
       "      <td>61</td>\n",
       "    </tr>\n",
       "    <tr>\n",
       "      <th>2</th>\n",
       "      <td>24</td>\n",
       "      <td>98</td>\n",
       "      <td>Medium</td>\n",
       "      <td>Medium</td>\n",
       "      <td>Yes</td>\n",
       "      <td>7</td>\n",
       "      <td>91</td>\n",
       "      <td>Medium</td>\n",
       "      <td>Yes</td>\n",
       "      <td>2</td>\n",
       "      <td>Medium</td>\n",
       "      <td>Medium</td>\n",
       "      <td>Public</td>\n",
       "      <td>Neutral</td>\n",
       "      <td>4</td>\n",
       "      <td>No</td>\n",
       "      <td>Postgraduate</td>\n",
       "      <td>Near</td>\n",
       "      <td>Male</td>\n",
       "      <td>74</td>\n",
       "    </tr>\n",
       "    <tr>\n",
       "      <th>3</th>\n",
       "      <td>29</td>\n",
       "      <td>89</td>\n",
       "      <td>Low</td>\n",
       "      <td>Medium</td>\n",
       "      <td>Yes</td>\n",
       "      <td>8</td>\n",
       "      <td>98</td>\n",
       "      <td>Medium</td>\n",
       "      <td>Yes</td>\n",
       "      <td>1</td>\n",
       "      <td>Medium</td>\n",
       "      <td>Medium</td>\n",
       "      <td>Public</td>\n",
       "      <td>Negative</td>\n",
       "      <td>4</td>\n",
       "      <td>No</td>\n",
       "      <td>High School</td>\n",
       "      <td>Moderate</td>\n",
       "      <td>Male</td>\n",
       "      <td>71</td>\n",
       "    </tr>\n",
       "    <tr>\n",
       "      <th>4</th>\n",
       "      <td>19</td>\n",
       "      <td>92</td>\n",
       "      <td>Medium</td>\n",
       "      <td>Medium</td>\n",
       "      <td>Yes</td>\n",
       "      <td>6</td>\n",
       "      <td>65</td>\n",
       "      <td>Medium</td>\n",
       "      <td>Yes</td>\n",
       "      <td>3</td>\n",
       "      <td>Medium</td>\n",
       "      <td>High</td>\n",
       "      <td>Public</td>\n",
       "      <td>Neutral</td>\n",
       "      <td>4</td>\n",
       "      <td>No</td>\n",
       "      <td>College</td>\n",
       "      <td>Near</td>\n",
       "      <td>Female</td>\n",
       "      <td>70</td>\n",
       "    </tr>\n",
       "    <tr>\n",
       "      <th>5</th>\n",
       "      <td>19</td>\n",
       "      <td>88</td>\n",
       "      <td>Medium</td>\n",
       "      <td>Medium</td>\n",
       "      <td>Yes</td>\n",
       "      <td>8</td>\n",
       "      <td>89</td>\n",
       "      <td>Medium</td>\n",
       "      <td>Yes</td>\n",
       "      <td>3</td>\n",
       "      <td>Medium</td>\n",
       "      <td>Medium</td>\n",
       "      <td>Public</td>\n",
       "      <td>Positive</td>\n",
       "      <td>3</td>\n",
       "      <td>No</td>\n",
       "      <td>Postgraduate</td>\n",
       "      <td>Near</td>\n",
       "      <td>Male</td>\n",
       "      <td>71</td>\n",
       "    </tr>\n",
       "    <tr>\n",
       "      <th>6</th>\n",
       "      <td>29</td>\n",
       "      <td>84</td>\n",
       "      <td>Medium</td>\n",
       "      <td>Low</td>\n",
       "      <td>Yes</td>\n",
       "      <td>7</td>\n",
       "      <td>68</td>\n",
       "      <td>Low</td>\n",
       "      <td>Yes</td>\n",
       "      <td>1</td>\n",
       "      <td>Low</td>\n",
       "      <td>Medium</td>\n",
       "      <td>Private</td>\n",
       "      <td>Neutral</td>\n",
       "      <td>2</td>\n",
       "      <td>No</td>\n",
       "      <td>High School</td>\n",
       "      <td>Moderate</td>\n",
       "      <td>Male</td>\n",
       "      <td>67</td>\n",
       "    </tr>\n",
       "    <tr>\n",
       "      <th>7</th>\n",
       "      <td>25</td>\n",
       "      <td>78</td>\n",
       "      <td>Low</td>\n",
       "      <td>High</td>\n",
       "      <td>Yes</td>\n",
       "      <td>6</td>\n",
       "      <td>50</td>\n",
       "      <td>Medium</td>\n",
       "      <td>Yes</td>\n",
       "      <td>1</td>\n",
       "      <td>High</td>\n",
       "      <td>High</td>\n",
       "      <td>Public</td>\n",
       "      <td>Negative</td>\n",
       "      <td>2</td>\n",
       "      <td>No</td>\n",
       "      <td>High School</td>\n",
       "      <td>Far</td>\n",
       "      <td>Male</td>\n",
       "      <td>66</td>\n",
       "    </tr>\n",
       "    <tr>\n",
       "      <th>8</th>\n",
       "      <td>17</td>\n",
       "      <td>94</td>\n",
       "      <td>Medium</td>\n",
       "      <td>High</td>\n",
       "      <td>No</td>\n",
       "      <td>6</td>\n",
       "      <td>80</td>\n",
       "      <td>High</td>\n",
       "      <td>Yes</td>\n",
       "      <td>0</td>\n",
       "      <td>Medium</td>\n",
       "      <td>Low</td>\n",
       "      <td>Private</td>\n",
       "      <td>Neutral</td>\n",
       "      <td>1</td>\n",
       "      <td>No</td>\n",
       "      <td>College</td>\n",
       "      <td>Near</td>\n",
       "      <td>Male</td>\n",
       "      <td>69</td>\n",
       "    </tr>\n",
       "    <tr>\n",
       "      <th>9</th>\n",
       "      <td>23</td>\n",
       "      <td>98</td>\n",
       "      <td>Medium</td>\n",
       "      <td>Medium</td>\n",
       "      <td>Yes</td>\n",
       "      <td>8</td>\n",
       "      <td>71</td>\n",
       "      <td>Medium</td>\n",
       "      <td>Yes</td>\n",
       "      <td>0</td>\n",
       "      <td>High</td>\n",
       "      <td>High</td>\n",
       "      <td>Public</td>\n",
       "      <td>Positive</td>\n",
       "      <td>5</td>\n",
       "      <td>No</td>\n",
       "      <td>High School</td>\n",
       "      <td>Moderate</td>\n",
       "      <td>Male</td>\n",
       "      <td>72</td>\n",
       "    </tr>\n",
       "  </tbody>\n",
       "</table>\n",
       "</div>"
      ],
      "text/plain": [
       "   Hours_Studied  Attendance Parental_Involvement Access_to_Resources  \\\n",
       "0             23          84                  Low                High   \n",
       "1             19          64                  Low              Medium   \n",
       "2             24          98               Medium              Medium   \n",
       "3             29          89                  Low              Medium   \n",
       "4             19          92               Medium              Medium   \n",
       "5             19          88               Medium              Medium   \n",
       "6             29          84               Medium                 Low   \n",
       "7             25          78                  Low                High   \n",
       "8             17          94               Medium                High   \n",
       "9             23          98               Medium              Medium   \n",
       "\n",
       "  Extracurricular_Activities  Sleep_Hours  Previous_Scores Motivation_Level  \\\n",
       "0                         No            7               73              Low   \n",
       "1                         No            8               59              Low   \n",
       "2                        Yes            7               91           Medium   \n",
       "3                        Yes            8               98           Medium   \n",
       "4                        Yes            6               65           Medium   \n",
       "5                        Yes            8               89           Medium   \n",
       "6                        Yes            7               68              Low   \n",
       "7                        Yes            6               50           Medium   \n",
       "8                         No            6               80             High   \n",
       "9                        Yes            8               71           Medium   \n",
       "\n",
       "  Internet_Access  Tutoring_Sessions Family_Income Teacher_Quality  \\\n",
       "0             Yes                  0           Low          Medium   \n",
       "1             Yes                  2        Medium          Medium   \n",
       "2             Yes                  2        Medium          Medium   \n",
       "3             Yes                  1        Medium          Medium   \n",
       "4             Yes                  3        Medium            High   \n",
       "5             Yes                  3        Medium          Medium   \n",
       "6             Yes                  1           Low          Medium   \n",
       "7             Yes                  1          High            High   \n",
       "8             Yes                  0        Medium             Low   \n",
       "9             Yes                  0          High            High   \n",
       "\n",
       "  School_Type Peer_Influence  Physical_Activity Learning_Disabilities  \\\n",
       "0      Public       Positive                  3                    No   \n",
       "1      Public       Negative                  4                    No   \n",
       "2      Public        Neutral                  4                    No   \n",
       "3      Public       Negative                  4                    No   \n",
       "4      Public        Neutral                  4                    No   \n",
       "5      Public       Positive                  3                    No   \n",
       "6     Private        Neutral                  2                    No   \n",
       "7      Public       Negative                  2                    No   \n",
       "8     Private        Neutral                  1                    No   \n",
       "9      Public       Positive                  5                    No   \n",
       "\n",
       "  Parental_Education_Level Distance_from_Home  Gender  Exam_Score  \n",
       "0              High School               Near    Male          67  \n",
       "1                  College           Moderate  Female          61  \n",
       "2             Postgraduate               Near    Male          74  \n",
       "3              High School           Moderate    Male          71  \n",
       "4                  College               Near  Female          70  \n",
       "5             Postgraduate               Near    Male          71  \n",
       "6              High School           Moderate    Male          67  \n",
       "7              High School                Far    Male          66  \n",
       "8                  College               Near    Male          69  \n",
       "9              High School           Moderate    Male          72  "
      ]
     },
     "execution_count": 104,
     "metadata": {},
     "output_type": "execute_result"
    }
   ],
   "source": [
    "data.head(10)"
   ]
  },
  {
   "cell_type": "markdown",
   "id": "1026e8c6-513a-41e3-b2f4-68aae18b8435",
   "metadata": {},
   "source": [
    "1. Посчитайте среднее кол-во часов уделяемое на сон студентами"
   ]
  },
  {
   "cell_type": "code",
   "execution_count": 111,
   "id": "e74655aa-b97c-42e5-b972-e0753ddc2331",
   "metadata": {},
   "outputs": [
    {
     "name": "stdout",
     "output_type": "stream",
     "text": [
      "среднее кол-во часов уделяемое на сон студентами  7.029060087785682  часов\n"
     ]
    }
   ],
   "source": [
    "print('среднее кол-во часов уделяемое на сон студентами ', data['Sleep_Hours'].mean(),' часов')"
   ]
  },
  {
   "cell_type": "markdown",
   "id": "eee028a5-9311-4a4f-b4ac-1fb75acfb4b3",
   "metadata": {},
   "source": [
    "2. Сколько процентов студентов посещают внеклассовые активности?"
   ]
  },
  {
   "cell_type": "code",
   "execution_count": 122,
   "id": "ac0fb641-96d2-4e7c-88d5-636ce3b699d2",
   "metadata": {},
   "outputs": [
    {
     "name": "stdout",
     "output_type": "stream",
     "text": [
      "59.60345088542455  %\n"
     ]
    }
   ],
   "source": [
    "print(data[data['Extracurricular_Activities'] == 'Yes'].shape[0]/data.shape[0] * 100, ' %')"
   ]
  },
  {
   "cell_type": "markdown",
   "id": "cd7979ba-2fa8-4fd3-986d-26cee122da1f",
   "metadata": {},
   "source": [
    "3. Правда ли, что в среднем девушки сдают экзамены лучше, чем мужчины"
   ]
  },
  {
   "cell_type": "code",
   "execution_count": 209,
   "id": "3915f77b-116c-482b-8644-2f5f11931af9",
   "metadata": {},
   "outputs": [
    {
     "data": {
      "text/plain": [
       "(75.05334765485141, 75.08311484006293)"
      ]
     },
     "execution_count": 209,
     "metadata": {},
     "output_type": "execute_result"
    }
   ],
   "source": [
    "#вступительные экзамены\n",
    "female_score1 = data[data['Gender'] == 'Female']['Previous_Scores'].mean()\n",
    "male_score1 = data[data['Gender'] == 'Male']['Previous_Scores'].mean()\n",
    "\n",
    "female_score1, male_score1"
   ]
  },
  {
   "cell_type": "code",
   "execution_count": 210,
   "id": "14bbe49d-d663-4fb1-8187-175993c5c477",
   "metadata": {},
   "outputs": [
    {
     "data": {
      "text/plain": [
       "(67.24489795918367, 67.22889355007865)"
      ]
     },
     "execution_count": 210,
     "metadata": {},
     "output_type": "execute_result"
    }
   ],
   "source": [
    "#конечные экзамены\n",
    "female_score2 = data[data['Gender'] == 'Female']['Exam_Score'].mean()\n",
    "male_score2 = data[data['Gender'] == 'Male']['Exam_Score'].mean()\n",
    "\n",
    "female_score2, male_score2"
   ]
  },
  {
   "cell_type": "markdown",
   "id": "d308fa66-368f-448d-9ce0-4e380a91f0b2",
   "metadata": {},
   "source": [
    "**Средний балл мужчин на вступительных экзаменах немного выше, а на заключительных ниже, чем женский**"
   ]
  },
  {
   "cell_type": "markdown",
   "id": "1b69ba67-61a8-4765-9795-cfab1a09e929",
   "metadata": {},
   "source": [
    "4. Выведите 25 и 75 перцентили времени сна студентов"
   ]
  },
  {
   "cell_type": "code",
   "execution_count": 139,
   "id": "1228d2e9-fc56-4240-95c6-c98a8b84c016",
   "metadata": {},
   "outputs": [
    {
     "data": {
      "text/plain": [
       "(6.0, 8.0)"
      ]
     },
     "execution_count": 139,
     "metadata": {},
     "output_type": "execute_result"
    }
   ],
   "source": [
    "quantile25 = data['Sleep_Hours'].quantile(0.25)\n",
    "quantile75 = data['Sleep_Hours'].quantile(0.75)\n",
    "quantile25, quantile75"
   ]
  },
  {
   "cell_type": "markdown",
   "id": "5acec4fd-f740-49a8-a5d8-562d358239c9",
   "metadata": {},
   "source": [
    "5. Правда ли, что те, кто спит больше(75 перцентиль и выше) сдает экзамен лучше, чем студенты с недосыпом(25 перцентиль и меньше)"
   ]
  },
  {
   "cell_type": "code",
   "execution_count": 215,
   "id": "cac8daef-f4e8-4c8b-b7f4-d41a6adf35ed",
   "metadata": {},
   "outputs": [
    {
     "data": {
      "text/plain": [
       "67.18704746580853"
      ]
     },
     "execution_count": 215,
     "metadata": {},
     "output_type": "execute_result"
    }
   ],
   "source": [
    "data[data['Sleep_Hours'] >= quantile75 ]['Exam_Score'].mean()"
   ]
  },
  {
   "cell_type": "code",
   "execution_count": 216,
   "id": "d8335d9d-e981-4b68-89b2-bee67138ac89",
   "metadata": {},
   "outputs": [
    {
     "data": {
      "text/plain": [
       "67.28109243697479"
      ]
     },
     "execution_count": 216,
     "metadata": {},
     "output_type": "execute_result"
    }
   ],
   "source": [
    "data[data['Sleep_Hours'] <= quantile25 ]['Exam_Score'].mean()"
   ]
  },
  {
   "cell_type": "markdown",
   "id": "34c81b14-a7ca-48ca-9b17-e866ddffd4ce",
   "metadata": {},
   "source": [
    "**Нет, те, кто спят меньше, сдают экзамен лучше, чем студенты с недосыпом**"
   ]
  },
  {
   "cell_type": "markdown",
   "id": "8d6171a9-0f75-4f3e-ac54-95d03d1f70b6",
   "metadata": {},
   "source": [
    "6. Влияет ли физическая активность на результаты экзамена?"
   ]
  },
  {
   "cell_type": "code",
   "execution_count": 148,
   "id": "c64d0892-2fb8-4304-966c-5cbb32b03c0a",
   "metadata": {},
   "outputs": [
    {
     "data": {
      "text/plain": [
       "[0, 1, 2, 3, 4, 5, 6]"
      ]
     },
     "execution_count": 148,
     "metadata": {},
     "output_type": "execute_result"
    }
   ],
   "source": [
    "activity_unique = sorted(data['Physical_Activity'].unique())\n",
    "activity_unique"
   ]
  },
  {
   "cell_type": "code",
   "execution_count": 217,
   "id": "e62d2865-156b-4712-8572-69d4c18bbeb0",
   "metadata": {},
   "outputs": [
    {
     "name": "stdout",
     "output_type": "stream",
     "text": [
      "Корреляция между физической активностью и результатами экзамена 0.6506864638542942\n"
     ]
    }
   ],
   "source": [
    "exam_results1 = []\n",
    "for activity in activity_unique:\n",
    "    res = data[data['Physical_Activity'] == activity]['Exam_Score'].mean()\n",
    "    exam_results1.append(res)\n",
    "\n",
    "print(\"Корреляция между физической активностью и результатами экзамена\", np.corrcoef(activity_unique, exam_results1)[0][1])"
   ]
  },
  {
   "cell_type": "markdown",
   "id": "1a4c0d4f-737a-42f2-ad4b-cd43dc56415c",
   "metadata": {},
   "source": [
    "**Да, влияет, наблюдается существенная прямая зависимость**"
   ]
  },
  {
   "cell_type": "markdown",
   "id": "d29320f9-aef8-452c-9d61-0afa72dd93b6",
   "metadata": {},
   "source": [
    "7. Правда ли, что слуденты, чьи родители имеют высшее образование, сдают экзамены лучше, чем остальные?"
   ]
  },
  {
   "cell_type": "code",
   "execution_count": 156,
   "id": "d04e1904-f9f3-40bd-abbd-4d53ee9f7bd2",
   "metadata": {},
   "outputs": [
    {
     "data": {
      "text/plain": [
       "array(['High School', 'College', 'Postgraduate', nan], dtype=object)"
      ]
     },
     "execution_count": 156,
     "metadata": {},
     "output_type": "execute_result"
    }
   ],
   "source": [
    "data['Parental_Education_Level'].unique()"
   ]
  },
  {
   "cell_type": "code",
   "execution_count": 218,
   "id": "f6c55ac3-e66f-4a84-a881-3330c02ad178",
   "metadata": {},
   "outputs": [
    {
     "data": {
      "text/plain": [
       "67.57528840315726"
      ]
     },
     "execution_count": 218,
     "metadata": {},
     "output_type": "execute_result"
    }
   ],
   "source": [
    "#с высшим образованием\n",
    "data[data['Parental_Education_Level'].isin(['College', 'Postgraduate'])]['Exam_Score'].mean()"
   ]
  },
  {
   "cell_type": "code",
   "execution_count": 220,
   "id": "12ff6e6e-b0ae-4518-b5c2-1eeb9ad68f06",
   "metadata": {},
   "outputs": [
    {
     "data": {
      "text/plain": [
       "66.89797766374886"
      ]
     },
     "execution_count": 220,
     "metadata": {},
     "output_type": "execute_result"
    }
   ],
   "source": [
    "#без высшего\n",
    "data[~data['Parental_Education_Level'].isin(['College', 'Postgraduate'])]['Exam_Score'].mean()"
   ]
  },
  {
   "cell_type": "markdown",
   "id": "c91b638c-7003-45b7-9517-54955bae4440",
   "metadata": {},
   "source": [
    "**Выходит, что дети, чьи родители имеют высшее образование, в среднем сдают экзамены лучше, чем остальные**"
   ]
  },
  {
   "cell_type": "markdown",
   "id": "1d447d6e-cfde-411c-9078-cd8f41f02d8b",
   "metadata": {},
   "source": [
    "8. Как влияет участие родителей на результаты экзаменов"
   ]
  },
  {
   "cell_type": "code",
   "execution_count": 182,
   "id": "b30df6b1-5eca-43da-a115-1c1a3cbfd899",
   "metadata": {},
   "outputs": [
    {
     "data": {
      "text/plain": [
       "array(['Low', 'Medium', 'High'], dtype=object)"
      ]
     },
     "execution_count": 182,
     "metadata": {},
     "output_type": "execute_result"
    }
   ],
   "source": [
    "involvment = data['Parental_Involvement'].unique()\n",
    "involvment"
   ]
  },
  {
   "cell_type": "code",
   "execution_count": 221,
   "id": "e060c987-1ff4-4917-b5a2-58904d0267ff",
   "metadata": {},
   "outputs": [
    {
     "data": {
      "text/plain": [
       "[66.35826477187734, 67.09815585960737, 68.09276729559748]"
      ]
     },
     "execution_count": 221,
     "metadata": {},
     "output_type": "execute_result"
    }
   ],
   "source": [
    "exam_results2 = []\n",
    "for elem in involvment:\n",
    "    res = data[data['Parental_Involvement'] == elem]['Exam_Score'].mean()\n",
    "    exam_results2.append(res)\n",
    "\n",
    "exam_results2"
   ]
  },
  {
   "cell_type": "markdown",
   "id": "2f3161f6-f92e-494d-8d06-28c337745991",
   "metadata": {},
   "source": [
    "**Получается, что чем больше участие родителей, тем лучше результаты экзамена**"
   ]
  },
  {
   "cell_type": "markdown",
   "id": "c41d5d99-65f7-4d17-82ae-971ec959f327",
   "metadata": {},
   "source": [
    "9. Правда ли, что в семьях с доходом больше среднего дети сдают экзамены лучше?"
   ]
  },
  {
   "cell_type": "code",
   "execution_count": 222,
   "id": "275bcc04-659b-4521-a9e5-200a5f4ef674",
   "metadata": {},
   "outputs": [
    {
     "data": {
      "text/plain": [
       "array(['Low', 'Medium', 'High'], dtype=object)"
      ]
     },
     "execution_count": 222,
     "metadata": {},
     "output_type": "execute_result"
    }
   ],
   "source": [
    "data['Family_Income'].unique()"
   ]
  },
  {
   "cell_type": "code",
   "execution_count": 223,
   "id": "41e3c7dd-594e-439a-b112-364918f32a6a",
   "metadata": {},
   "outputs": [
    {
     "data": {
      "text/plain": [
       "66.84842814371258"
      ]
     },
     "execution_count": 223,
     "metadata": {},
     "output_type": "execute_result"
    }
   ],
   "source": [
    "#средний бал при доходе ниже среднего\n",
    "data[data['Family_Income'] == 'Low']['Exam_Score'].mean()"
   ]
  },
  {
   "cell_type": "code",
   "execution_count": 224,
   "id": "9fbba46f-d952-405b-b4ce-438138756985",
   "metadata": {},
   "outputs": [
    {
     "data": {
      "text/plain": [
       "67.84239558707644"
      ]
     },
     "execution_count": 224,
     "metadata": {},
     "output_type": "execute_result"
    }
   ],
   "source": [
    "#средний бал при доходе выше среднего\n",
    "data[data['Family_Income'] == 'High']['Exam_Score'].mean()"
   ]
  },
  {
   "cell_type": "markdown",
   "id": "ca1340af-c8cb-48e3-ba33-79e7f7ae0432",
   "metadata": {},
   "source": [
    "**Дети лучше сдают экзамены при доходе семьи выше среднего**"
   ]
  },
  {
   "cell_type": "markdown",
   "id": "a1f7a5c0-259c-4837-a5d1-2dfc05e7c13e",
   "metadata": {},
   "source": [
    "10. Посчитайте долю студентов сдавших экзамен на более чем 70 баллов в семьях с доходом ниже 25го перцентиля и отсутствием доступа к интернету"
   ]
  },
  {
   "cell_type": "markdown",
   "id": "04fb6620-4c4e-4bb8-bea8-0e83f8643d48",
   "metadata": {},
   "source": [
    "**Доход семьи это категориальный признак, поэтому перцентиль не взять**"
   ]
  },
  {
   "cell_type": "code",
   "execution_count": 237,
   "id": "a2da4d57-edb4-4179-8bee-3deda6cd00e6",
   "metadata": {},
   "outputs": [
    {
     "data": {
      "text/plain": [
       "0.2573028606023914"
      ]
     },
     "execution_count": 237,
     "metadata": {},
     "output_type": "execute_result"
    }
   ],
   "source": [
    "((data['Exam_Score'] > 70) & (data['Family_Income'] == 'Low') & (data['Internet_Access'] == \"No\")).mean()*100"
   ]
  },
  {
   "cell_type": "markdown",
   "id": "cd4c5cb7-14dd-4213-bc0b-8402f21289d9",
   "metadata": {},
   "source": [
    "**Таковых всего четверть процента**"
   ]
  },
  {
   "cell_type": "markdown",
   "id": "deb4ca3a-3d8a-4205-bee9-d26fd28638b2",
   "metadata": {},
   "source": [
    "### 3. Визуализация"
   ]
  },
  {
   "cell_type": "markdown",
   "id": "f8941ce1-cbf2-465a-b013-1b84aeb999ef",
   "metadata": {},
   "source": [
    "Используя библиотеки matplotlib/sns/plotly/pandas и набор данных представленный ранее визуализируйте"
   ]
  },
  {
   "cell_type": "markdown",
   "id": "5e98ce6f-8d02-4120-ad85-241494c038d6",
   "metadata": {},
   "source": [
    "1. Правда ли, что количество часов затрачиваемых на сон распределено примерно нормально?"
   ]
  },
  {
   "cell_type": "code",
   "execution_count": 248,
   "id": "664666b2-17b7-49dd-a3bd-c4be9361755d",
   "metadata": {},
   "outputs": [
    {
     "data": {
      "image/png": "[encoded data removed]",
      "text/plain": [
       "<Figure size 640x480 with 1 Axes>"
      ]
     },
     "metadata": {},
     "output_type": "display_data"
    }
   ],
   "source": [
    "sleep_time = data['Sleep_Hours']\n",
    "\n",
    "plt.hist(sleep_time, label='sleep_time', color='Red')\n",
    "\n",
    "plt.xlabel('Время на сон')\n",
    "plt.ylabel('Частота')\n",
    "plt.title('Распределение времени на сон')\n",
    "plt.legend()\n",
    "\n",
    "plt.show()"
   ]
  },
  {
   "cell_type": "markdown",
   "id": "2e8206d8-8304-4a14-a0cc-83efd330f5c3",
   "metadata": {},
   "source": [
    "**Похоже, что да**"
   ]
  },
  {
   "cell_type": "markdown",
   "id": "4c7500bb-36ca-4ea7-bc3c-4f15afbd4c41",
   "metadata": {},
   "source": [
    "2. Постройте гистограмму распределения количества часов затрачиваемых на обучение среди мальчиков и девочек"
   ]
  },
  {
   "cell_type": "code",
   "execution_count": 261,
   "id": "7325e7f8-5f00-4a82-8184-7064505f7ccd",
   "metadata": {},
   "outputs": [
    {
     "data": {
      "image/png": "[encoded data removed]",
      "text/plain": [
       "<Figure size 1000x500 with 2 Axes>"
      ]
     },
     "metadata": {},
     "output_type": "display_data"
    }
   ],
   "source": [
    "Hours_Studied_male = data[data['Gender'] == 'Male']['Hours_Studied']\n",
    "Hours_Studied_female = data[data['Gender'] == 'Female']['Hours_Studied']\n",
    "\n",
    "fig, (ax1, ax2) = plt.subplots(1, 2, figsize=(10, 5)) \n",
    "\n",
    "ax1.hist(sleep_time_male, color='blue')\n",
    "ax1.set_title('Гистограмма Hours_Studied_male')\n",
    "ax1.set_xlabel('Значения')\n",
    "ax1.set_ylabel('Частота')\n",
    "\n",
    "ax2.hist(sleep_time_female, color='red')\n",
    "ax2.set_title('Гистограмма Hours_Studied_female')\n",
    "ax2.set_xlabel('Значения')\n",
    "ax2.set_ylabel('Частота')\n",
    "\n",
    "plt.show()"
   ]
  },
  {
   "cell_type": "markdown",
   "id": "efdd0669-36e0-4708-ac6b-ad0d92881113",
   "metadata": {},
   "source": [
    "3. Как зависит результат конечного экзамена от результата первого экзамена"
   ]
  },
  {
   "cell_type": "code",
   "execution_count": 263,
   "id": "7504a170-04a1-4b86-924d-8d46be16fd3c",
   "metadata": {},
   "outputs": [
    {
     "data": {
      "image/png": "[encoded data removed]",
      "text/plain": [
       "<Figure size 640x480 with 1 Axes>"
      ]
     },
     "metadata": {},
     "output_type": "display_data"
    }
   ],
   "source": [
    "plt.scatter(data['Previous_Scores'], data['Exam_Score'], color='blue')\n",
    "\n",
    "plt.title('Зависимость результата конечного экзамена от первого экзамена')\n",
    "plt.xlabel('Оценка за первый экзамен')\n",
    "plt.ylabel('Оценка за конечный экзамен')\n",
    "\n",
    "plt.show()"
   ]
  },
  {
   "cell_type": "markdown",
   "id": "da0a3cec-91a4-41be-b579-ffa04dbd2a09",
   "metadata": {},
   "source": [
    "**Есть слабая линейная зависимость между результатами за два экзамена. Чем выше балл за первый экзамен, тем выше балл за финальный, но связь незначительная, поэтому скорее оценка за финальный экзамен у всех примерно одинакова вне зависимости от результата входного экзамена**"
   ]
  },
  {
   "cell_type": "markdown",
   "id": "b5839a48-e992-45fc-81ee-59cb5aa79dda",
   "metadata": {},
   "source": [
    "4. Постройте box plot отображающий распределение доходов семей детей сдавших экзамены на оценку ниже и выше 50 баллов"
   ]
  },
  {
   "cell_type": "markdown",
   "id": "c5d76941-59ec-4127-a506-cca3a3613290",
   "metadata": {},
   "source": [
    "Family_Income               6607 non-null   object\n",
    "\n",
    "**Я не могу построить ящик с усами по категориальному признаку)**"
   ]
  },
  {
   "cell_type": "markdown",
   "id": "d4c97bef-bb64-43cc-a89f-7510174492ec",
   "metadata": {},
   "source": [
    "5. Правда ли, что количество посещаемых занятий с репетитором в месяц напрямую влияет на балл в конечном экзамене?"
   ]
  },
  {
   "cell_type": "code",
   "execution_count": 265,
   "id": "a1f444af-3544-432c-8dc6-bb74d4cff272",
   "metadata": {},
   "outputs": [
    {
     "data": {
      "image/png": "[encoded data removed]",
      "text/plain": [
       "<Figure size 640x480 with 1 Axes>"
      ]
     },
     "metadata": {},
     "output_type": "display_data"
    }
   ],
   "source": [
    "plt.scatter(data['Tutoring_Sessions'], data['Exam_Score'], color='blue', alpha=0.7)\n",
    "\n",
    "plt.title('Зависимость результата конечного экзамена от количества занятий с репетитором')\n",
    "plt.xlabel('Кол-во занятий с репетитором')\n",
    "plt.ylabel('Оценка за конечный экзамен')\n",
    "\n",
    "plt.show()"
   ]
  },
  {
   "cell_type": "markdown",
   "id": "e93d104a-8297-45e7-b86a-c79b56954efd",
   "metadata": {},
   "source": [
    "**Да, у тех, кто больше занимался с репетитором, оценки за конечный экзамен лучше**"
   ]
  },
  {
   "cell_type": "markdown",
   "id": "16249674-e680-4ab0-a16a-4e98c24202ed",
   "metadata": {},
   "source": [
    "6. Как физическая активность влияет на успеваемость?"
   ]
  },
  {
   "cell_type": "code",
   "execution_count": 268,
   "id": "5d1f5e09-3f97-45ad-87f8-c9796cc214db",
   "metadata": {},
   "outputs": [
    {
     "data": {
      "image/png": "[encoded data removed]",
      "text/plain": [
       "<Figure size 640x480 with 1 Axes>"
      ]
     },
     "metadata": {},
     "output_type": "display_data"
    }
   ],
   "source": [
    "plt.scatter(data['Physical_Activity'], data['Exam_Score'], color='blue', alpha=0.7)\n",
    "\n",
    "plt.title('Зависимость результата конечного экзамена от уровня физической активности')\n",
    "plt.xlabel('Физическая активность')\n",
    "plt.ylabel('Оценка за конечный экзамен')\n",
    "\n",
    "plt.show()"
   ]
  },
  {
   "cell_type": "markdown",
   "id": "b56e7821-4e50-4998-85c9-d19470628bf4",
   "metadata": {},
   "source": [
    "**Между уровнем физической активности и баллом за конечный экзамен есть прямая зависимость**"
   ]
  },
  {
   "cell_type": "markdown",
   "id": "16afdeec-8c90-4ed1-a599-e0b1343bbf5c",
   "metadata": {},
   "source": [
    "7. Постройте HeatMap где ось Х - процент посещаемость, Y - количество занятий с репетитором, а Z - балл за итоговый экзамен*\n",
    "\n",
    "\\* Задание на доп. балл"
   ]
  },
  {
   "cell_type": "code",
   "execution_count": 313,
   "id": "0d358031-98aa-45b6-af9f-57fce6b50eca",
   "metadata": {},
   "outputs": [],
   "source": [
    "for_heatmap = data.pivot_table(\n",
    "    index='Tutoring_Sessions', \n",
    "    columns='Attendance', \n",
    "    values='Exam_Score', \n",
    "    aggfunc='mean' \n",
    ")\n"
   ]
  },
  {
   "cell_type": "code",
   "execution_count": 315,
   "id": "e9667018-bff3-47f0-a847-d066f0bc1d1b",
   "metadata": {
    "scrolled": true
   },
   "outputs": [
    {
     "data": {
      "image/png": "[encoded data removed]",
      "text/plain": [
       "<Figure size 1000x600 with 2 Axes>"
      ]
     },
     "metadata": {},
     "output_type": "display_data"
    }
   ],
   "source": [
    "plt.figure(figsize=(10, 6))\n",
    "sns.heatmap(for_heatmap)\n",
    "\n",
    "plt.title('Итоговые баллы в зависимости от посещаемости и занятий с репетитором')\n",
    "plt.xlabel('Процент посещаемости')\n",
    "plt.ylabel('Количество занятий с репетитором')\n",
    "\n",
    "plt.show()"
   ]
  },
  {
   "cell_type": "code",
   "execution_count": null,
   "id": "381cf9bb-ac9d-462e-9e2f-0e25b1fcfe32",
   "metadata": {},
   "outputs": [],
   "source": []
  }
 ],
 "metadata": {
  "kernelspec": {
   "display_name": "Python 3 (ipykernel)",
   "language": "python",
   "name": "python3"
  },
  "language_info": {
   "codemirror_mode": {
    "name": "ipython",
    "version": 3
   },
   "file_extension": ".py",
   "mimetype": "text/x-python",
   "name": "python",
   "nbconvert_exporter": "python",
   "pygments_lexer": "ipython3",
   "version": "3.8.10"
  }
 },
 "nbformat": 4,
 "nbformat_minor": 5
}
